{
 "cells": [
  {
   "cell_type": "markdown",
   "metadata": {},
   "source": [
    "# Análisis de datos y planeación de estrategia\n",
    "### Cómo Mejorar la Presencia de Mercado con Datos y Estrategia"
   ]
  },
  {
   "cell_type": "markdown",
   "metadata": {},
   "source": [
    "Carlos Ordoñez  \n",
    "Anibal Gamboa  \n",
    "Dennys Alburquerque  \n",
    "Edwin Veloz"
   ]
  },
  {
   "cell_type": "code",
   "execution_count": 193,
   "metadata": {},
   "outputs": [],
   "source": [
    "import pandas as pd\n",
    "import seaborn as sns\n",
    "import matplotlib.pyplot as plt\n",
    "import numpy as np"
   ]
  },
  {
   "cell_type": "code",
   "execution_count": 134,
   "metadata": {},
   "outputs": [
    {
     "name": "stderr",
     "output_type": "stream",
     "text": [
      "/tmp/ipykernel_46916/2117394340.py:1: DtypeWarning: Columns (5,10) have mixed types. Specify dtype option on import or set low_memory=False.\n",
      "  df = pd.read_csv('../data/dataset_project.csv')\n"
     ]
    }
   ],
   "source": [
    "df = pd.read_csv('../data/dataset_project.csv')\n",
    "df = df.drop(columns=['Unnamed: 0','level_0'])"
   ]
  },
  {
   "cell_type": "code",
   "execution_count": 135,
   "metadata": {},
   "outputs": [
    {
     "name": "stdout",
     "output_type": "stream",
     "text": [
      "<class 'pandas.core.frame.DataFrame'>\n",
      "RangeIndex: 708015 entries, 0 to 708014\n",
      "Data columns (total 20 columns):\n",
      " #   Column                Non-Null Count   Dtype  \n",
      "---  ------                --------------   -----  \n",
      " 0   index                 708015 non-null  int64  \n",
      " 1   CodigoVendedor        708015 non-null  int64  \n",
      " 2   CodigoSucursal        708015 non-null  object \n",
      " 3   CodigoCliente         708015 non-null  object \n",
      " 4   Longitud              708015 non-null  float64\n",
      " 5   Latitud               708015 non-null  float64\n",
      " 6   FechaCreacionCliente  708015 non-null  object \n",
      " 7   TipoDocumento         708015 non-null  object \n",
      " 8   MotivoNCR             24298 non-null   object \n",
      " 9   NumeroDocumento       708015 non-null  object \n",
      " 10  FechaDocumento        708015 non-null  object \n",
      " 11  FechaOrden            708015 non-null  object \n",
      " 12  FechaDespacho         708015 non-null  object \n",
      " 13  ClaseDeProducto       708015 non-null  object \n",
      " 14  CodigoProducto        708015 non-null  object \n",
      " 15  Cantidad              708015 non-null  float64\n",
      " 16  PrecioUnitario        708015 non-null  float64\n",
      " 17  ValorDescuento        708015 non-null  float64\n",
      " 18  TotalSinIVA           708015 non-null  float64\n",
      " 19  Sucursal              708015 non-null  object \n",
      "dtypes: float64(6), int64(2), object(12)\n",
      "memory usage: 108.0+ MB\n"
     ]
    }
   ],
   "source": [
    "df.info()"
   ]
  },
  {
   "cell_type": "code",
   "execution_count": 136,
   "metadata": {},
   "outputs": [
    {
     "data": {
      "text/plain": [
       "CodigoSucursal\n",
       "MA    338814\n",
       "SQ    188056\n",
       "SA     69755\n",
       "SM     62353\n",
       "MC     49037\n",
       "Name: count, dtype: int64"
      ]
     },
     "execution_count": 136,
     "metadata": {},
     "output_type": "execute_result"
    }
   ],
   "source": [
    "df['CodigoSucursal'].value_counts()"
   ]
  },
  {
   "cell_type": "code",
   "execution_count": 137,
   "metadata": {},
   "outputs": [],
   "source": [
    "sucursalesPrincipales = ['MA', 'SQ', 'SA', 'SM', 'MC']"
   ]
  },
  {
   "cell_type": "code",
   "execution_count": 138,
   "metadata": {},
   "outputs": [],
   "source": [
    "df_filtered = df[df['CodigoSucursal'].isin(sucursalesPrincipales)].reset_index()"
   ]
  },
  {
   "cell_type": "code",
   "execution_count": 139,
   "metadata": {},
   "outputs": [
    {
     "name": "stdout",
     "output_type": "stream",
     "text": [
      "<class 'pandas.core.frame.DataFrame'>\n",
      "RangeIndex: 708015 entries, 0 to 708014\n",
      "Data columns (total 21 columns):\n",
      " #   Column                Non-Null Count   Dtype  \n",
      "---  ------                --------------   -----  \n",
      " 0   level_0               708015 non-null  int64  \n",
      " 1   index                 708015 non-null  int64  \n",
      " 2   CodigoVendedor        708015 non-null  int64  \n",
      " 3   CodigoSucursal        708015 non-null  object \n",
      " 4   CodigoCliente         708015 non-null  object \n",
      " 5   Longitud              708015 non-null  float64\n",
      " 6   Latitud               708015 non-null  float64\n",
      " 7   FechaCreacionCliente  708015 non-null  object \n",
      " 8   TipoDocumento         708015 non-null  object \n",
      " 9   MotivoNCR             24298 non-null   object \n",
      " 10  NumeroDocumento       708015 non-null  object \n",
      " 11  FechaDocumento        708015 non-null  object \n",
      " 12  FechaOrden            708015 non-null  object \n",
      " 13  FechaDespacho         708015 non-null  object \n",
      " 14  ClaseDeProducto       708015 non-null  object \n",
      " 15  CodigoProducto        708015 non-null  object \n",
      " 16  Cantidad              708015 non-null  float64\n",
      " 17  PrecioUnitario        708015 non-null  float64\n",
      " 18  ValorDescuento        708015 non-null  float64\n",
      " 19  TotalSinIVA           708015 non-null  float64\n",
      " 20  Sucursal              708015 non-null  object \n",
      "dtypes: float64(6), int64(3), object(12)\n",
      "memory usage: 113.4+ MB\n"
     ]
    }
   ],
   "source": [
    "df_filtered.info()"
   ]
  },
  {
   "cell_type": "code",
   "execution_count": 140,
   "metadata": {},
   "outputs": [],
   "source": [
    "df_filtered['FechaCreacionCliente'] = pd.to_datetime(df_filtered['FechaCreacionCliente'])\n",
    "df_filtered['FechaDocumento'] = pd.to_datetime(df_filtered['FechaDocumento'])\n",
    "df_filtered['FechaOrden'] = pd.to_datetime(df_filtered['FechaOrden'])"
   ]
  },
  {
   "cell_type": "code",
   "execution_count": 141,
   "metadata": {},
   "outputs": [],
   "source": [
    "clientes_fechas = df_filtered.groupby(['CodigoCliente', 'CodigoSucursal', 'CodigoVendedor'])['FechaCreacionCliente'].min().reset_index()"
   ]
  },
  {
   "cell_type": "code",
   "execution_count": 142,
   "metadata": {},
   "outputs": [],
   "source": [
    "d = {\n",
    "    \"MA\" : \"Guayaquil\",\n",
    "    \"SQ\" : \"Quito\",\n",
    "    \"SM\" : \"Manta\",\n",
    "    \"SA\" : \"Ambato\",\n",
    "    \"MC\" : \"Machala\"\n",
    "}\n",
    "df_filtered['EtiquetaSucursal'] = df_filtered['CodigoSucursal'].map(d)"
   ]
  },
  {
   "cell_type": "code",
   "execution_count": 143,
   "metadata": {},
   "outputs": [],
   "source": [
    "vendedores_sucursal = df_filtered.groupby(['EtiquetaSucursal'])['CodigoVendedor'].nunique().reset_index()"
   ]
  },
  {
   "cell_type": "code",
   "execution_count": 144,
   "metadata": {},
   "outputs": [],
   "source": [
    "clientes_fechas['year'] = clientes_fechas['FechaCreacionCliente'].dt.year"
   ]
  },
  {
   "cell_type": "code",
   "execution_count": 145,
   "metadata": {},
   "outputs": [],
   "source": [
    "totales_mes = df_filtered.groupby([pd.Grouper(key=\"FechaDocumento\", freq=\"M\"), \"EtiquetaSucursal\"])['TotalSinIVA'].sum().reset_index()"
   ]
  },
  {
   "cell_type": "code",
   "execution_count": 147,
   "metadata": {},
   "outputs": [
    {
     "name": "stderr",
     "output_type": "stream",
     "text": [
      "/home/eeveloza/anaconda3/lib/python3.11/site-packages/seaborn/_oldcore.py:1119: FutureWarning: use_inf_as_na option is deprecated and will be removed in a future version. Convert inf values to NaN before operating instead.\n",
      "  with pd.option_context('mode.use_inf_as_na', True):\n",
      "/home/eeveloza/anaconda3/lib/python3.11/site-packages/seaborn/_oldcore.py:1119: FutureWarning: use_inf_as_na option is deprecated and will be removed in a future version. Convert inf values to NaN before operating instead.\n",
      "  with pd.option_context('mode.use_inf_as_na', True):\n"
     ]
    },
    {
     "data": {
      "text/plain": [
       "Text(0.5, 1.0, 'Ventas por Sucursal en el año 2024 en Millones USD')"
      ]
     },
     "execution_count": 147,
     "metadata": {},
     "output_type": "execute_result"
    },
    {
     "data": {
      "image/png": "[encoded data removed]",
      "text/plain": [
       "<Figure size 1200x600 with 1 Axes>"
      ]
     },
     "metadata": {},
     "output_type": "display_data"
    }
   ],
   "source": [
    "fig, ax = plt.subplots(figsize=(12, 6))\n",
    "sns.lineplot(data=totales_mes, x=\"FechaDocumento\", y=\"TotalSinIVA\", hue=\"EtiquetaSucursal\")\n",
    "plt.title(\"Ventas por Sucursal en el año 2024 en Millones USD\")"
   ]
  },
  {
   "cell_type": "code",
   "execution_count": 35,
   "metadata": {},
   "outputs": [],
   "source": [
    "#df_filtered.to_csv('ventas.csv', index=False)"
   ]
  },
  {
   "cell_type": "code",
   "execution_count": 150,
   "metadata": {},
   "outputs": [],
   "source": [
    "df_filtered['nuevo'] = (2023 - df_filtered['FechaCreacionCliente'].dt.year) < 5\n",
    "df_filtered['aniosFidelizacion'] = 2023 - df_filtered['FechaCreacionCliente'].dt.year"
   ]
  },
  {
   "cell_type": "code",
   "execution_count": 151,
   "metadata": {},
   "outputs": [
    {
     "data": {
      "text/html": [
       "<div>\n",
       "<style scoped>\n",
       "    .dataframe tbody tr th:only-of-type {\n",
       "        vertical-align: middle;\n",
       "    }\n",
       "\n",
       "    .dataframe tbody tr th {\n",
       "        vertical-align: top;\n",
       "    }\n",
       "\n",
       "    .dataframe thead th {\n",
       "        text-align: right;\n",
       "    }\n",
       "</style>\n",
       "<table border=\"1\" class=\"dataframe\">\n",
       "  <thead>\n",
       "    <tr style=\"text-align: right;\">\n",
       "      <th></th>\n",
       "      <th>aniosFidelizacion</th>\n",
       "      <th>TotalSinIVA</th>\n",
       "    </tr>\n",
       "  </thead>\n",
       "  <tbody>\n",
       "    <tr>\n",
       "      <th>0</th>\n",
       "      <td>0</td>\n",
       "      <td>1561284.49</td>\n",
       "    </tr>\n",
       "    <tr>\n",
       "      <th>1</th>\n",
       "      <td>1</td>\n",
       "      <td>2295509.00</td>\n",
       "    </tr>\n",
       "    <tr>\n",
       "      <th>2</th>\n",
       "      <td>2</td>\n",
       "      <td>3418416.65</td>\n",
       "    </tr>\n",
       "    <tr>\n",
       "      <th>3</th>\n",
       "      <td>3</td>\n",
       "      <td>1852769.60</td>\n",
       "    </tr>\n",
       "    <tr>\n",
       "      <th>4</th>\n",
       "      <td>4</td>\n",
       "      <td>1580860.18</td>\n",
       "    </tr>\n",
       "    <tr>\n",
       "      <th>5</th>\n",
       "      <td>5</td>\n",
       "      <td>2375553.35</td>\n",
       "    </tr>\n",
       "    <tr>\n",
       "      <th>6</th>\n",
       "      <td>6</td>\n",
       "      <td>1982852.38</td>\n",
       "    </tr>\n",
       "    <tr>\n",
       "      <th>7</th>\n",
       "      <td>7</td>\n",
       "      <td>2870930.27</td>\n",
       "    </tr>\n",
       "    <tr>\n",
       "      <th>8</th>\n",
       "      <td>8</td>\n",
       "      <td>2881388.79</td>\n",
       "    </tr>\n",
       "    <tr>\n",
       "      <th>9</th>\n",
       "      <td>9</td>\n",
       "      <td>1152451.59</td>\n",
       "    </tr>\n",
       "    <tr>\n",
       "      <th>10</th>\n",
       "      <td>10</td>\n",
       "      <td>2239982.82</td>\n",
       "    </tr>\n",
       "    <tr>\n",
       "      <th>11</th>\n",
       "      <td>11</td>\n",
       "      <td>1825302.35</td>\n",
       "    </tr>\n",
       "    <tr>\n",
       "      <th>12</th>\n",
       "      <td>12</td>\n",
       "      <td>2334359.31</td>\n",
       "    </tr>\n",
       "    <tr>\n",
       "      <th>13</th>\n",
       "      <td>13</td>\n",
       "      <td>1461801.20</td>\n",
       "    </tr>\n",
       "    <tr>\n",
       "      <th>14</th>\n",
       "      <td>14</td>\n",
       "      <td>2196300.75</td>\n",
       "    </tr>\n",
       "    <tr>\n",
       "      <th>15</th>\n",
       "      <td>15</td>\n",
       "      <td>1725043.87</td>\n",
       "    </tr>\n",
       "    <tr>\n",
       "      <th>16</th>\n",
       "      <td>16</td>\n",
       "      <td>886444.13</td>\n",
       "    </tr>\n",
       "    <tr>\n",
       "      <th>17</th>\n",
       "      <td>17</td>\n",
       "      <td>706235.66</td>\n",
       "    </tr>\n",
       "    <tr>\n",
       "      <th>18</th>\n",
       "      <td>18</td>\n",
       "      <td>1366679.01</td>\n",
       "    </tr>\n",
       "    <tr>\n",
       "      <th>19</th>\n",
       "      <td>19</td>\n",
       "      <td>17949031.67</td>\n",
       "    </tr>\n",
       "    <tr>\n",
       "      <th>20</th>\n",
       "      <td>31</td>\n",
       "      <td>849358.13</td>\n",
       "    </tr>\n",
       "  </tbody>\n",
       "</table>\n",
       "</div>"
      ],
      "text/plain": [
       "    aniosFidelizacion  TotalSinIVA\n",
       "0                   0   1561284.49\n",
       "1                   1   2295509.00\n",
       "2                   2   3418416.65\n",
       "3                   3   1852769.60\n",
       "4                   4   1580860.18\n",
       "5                   5   2375553.35\n",
       "6                   6   1982852.38\n",
       "7                   7   2870930.27\n",
       "8                   8   2881388.79\n",
       "9                   9   1152451.59\n",
       "10                 10   2239982.82\n",
       "11                 11   1825302.35\n",
       "12                 12   2334359.31\n",
       "13                 13   1461801.20\n",
       "14                 14   2196300.75\n",
       "15                 15   1725043.87\n",
       "16                 16    886444.13\n",
       "17                 17    706235.66\n",
       "18                 18   1366679.01\n",
       "19                 19  17949031.67\n",
       "20                 31    849358.13"
      ]
     },
     "execution_count": 151,
     "metadata": {},
     "output_type": "execute_result"
    }
   ],
   "source": [
    "total_por_años_cliente = df_filtered.groupby('aniosFidelizacion')['TotalSinIVA'].sum().reset_index()\n",
    "total_por_años_cliente"
   ]
  },
  {
   "cell_type": "code",
   "execution_count": 152,
   "metadata": {},
   "outputs": [
    {
     "data": {
      "text/plain": [
       "<Axes: xlabel='aniosFidelizacion', ylabel='TotalSinIVA'>"
      ]
     },
     "execution_count": 152,
     "metadata": {},
     "output_type": "execute_result"
    },
    {
     "data": {
      "image/png": "[encoded data removed]",
      "text/plain": [
       "<Figure size 640x480 with 1 Axes>"
      ]
     },
     "metadata": {},
     "output_type": "display_data"
    }
   ],
   "source": [
    "sns.regplot(data=total_por_años_cliente, x=\"aniosFidelizacion\", y=\"TotalSinIVA\")"
   ]
  },
  {
   "cell_type": "code",
   "execution_count": 153,
   "metadata": {},
   "outputs": [
    {
     "data": {
      "text/html": [
       "<div>\n",
       "<style scoped>\n",
       "    .dataframe tbody tr th:only-of-type {\n",
       "        vertical-align: middle;\n",
       "    }\n",
       "\n",
       "    .dataframe tbody tr th {\n",
       "        vertical-align: top;\n",
       "    }\n",
       "\n",
       "    .dataframe thead th {\n",
       "        text-align: right;\n",
       "    }\n",
       "</style>\n",
       "<table border=\"1\" class=\"dataframe\">\n",
       "  <thead>\n",
       "    <tr style=\"text-align: right;\">\n",
       "      <th></th>\n",
       "      <th>aniosFidelizacion</th>\n",
       "      <th>TotalSinIVA</th>\n",
       "    </tr>\n",
       "  </thead>\n",
       "  <tbody>\n",
       "    <tr>\n",
       "      <th>0</th>\n",
       "      <td>0</td>\n",
       "      <td>1561284.49</td>\n",
       "    </tr>\n",
       "    <tr>\n",
       "      <th>1</th>\n",
       "      <td>1</td>\n",
       "      <td>2295509.00</td>\n",
       "    </tr>\n",
       "    <tr>\n",
       "      <th>2</th>\n",
       "      <td>2</td>\n",
       "      <td>3418416.65</td>\n",
       "    </tr>\n",
       "    <tr>\n",
       "      <th>3</th>\n",
       "      <td>3</td>\n",
       "      <td>1852769.60</td>\n",
       "    </tr>\n",
       "    <tr>\n",
       "      <th>4</th>\n",
       "      <td>4</td>\n",
       "      <td>1580860.18</td>\n",
       "    </tr>\n",
       "    <tr>\n",
       "      <th>5</th>\n",
       "      <td>5</td>\n",
       "      <td>2375553.35</td>\n",
       "    </tr>\n",
       "    <tr>\n",
       "      <th>6</th>\n",
       "      <td>6</td>\n",
       "      <td>1982852.38</td>\n",
       "    </tr>\n",
       "    <tr>\n",
       "      <th>7</th>\n",
       "      <td>7</td>\n",
       "      <td>2870930.27</td>\n",
       "    </tr>\n",
       "    <tr>\n",
       "      <th>8</th>\n",
       "      <td>8</td>\n",
       "      <td>2881388.79</td>\n",
       "    </tr>\n",
       "    <tr>\n",
       "      <th>9</th>\n",
       "      <td>9</td>\n",
       "      <td>1152451.59</td>\n",
       "    </tr>\n",
       "    <tr>\n",
       "      <th>10</th>\n",
       "      <td>10</td>\n",
       "      <td>2239982.82</td>\n",
       "    </tr>\n",
       "    <tr>\n",
       "      <th>11</th>\n",
       "      <td>11</td>\n",
       "      <td>1825302.35</td>\n",
       "    </tr>\n",
       "    <tr>\n",
       "      <th>12</th>\n",
       "      <td>12</td>\n",
       "      <td>2334359.31</td>\n",
       "    </tr>\n",
       "    <tr>\n",
       "      <th>13</th>\n",
       "      <td>13</td>\n",
       "      <td>1461801.20</td>\n",
       "    </tr>\n",
       "    <tr>\n",
       "      <th>14</th>\n",
       "      <td>14</td>\n",
       "      <td>2196300.75</td>\n",
       "    </tr>\n",
       "    <tr>\n",
       "      <th>15</th>\n",
       "      <td>15</td>\n",
       "      <td>1725043.87</td>\n",
       "    </tr>\n",
       "    <tr>\n",
       "      <th>16</th>\n",
       "      <td>16</td>\n",
       "      <td>886444.13</td>\n",
       "    </tr>\n",
       "    <tr>\n",
       "      <th>17</th>\n",
       "      <td>17</td>\n",
       "      <td>706235.66</td>\n",
       "    </tr>\n",
       "  </tbody>\n",
       "</table>\n",
       "</div>"
      ],
      "text/plain": [
       "    aniosFidelizacion  TotalSinIVA\n",
       "0                   0   1561284.49\n",
       "1                   1   2295509.00\n",
       "2                   2   3418416.65\n",
       "3                   3   1852769.60\n",
       "4                   4   1580860.18\n",
       "5                   5   2375553.35\n",
       "6                   6   1982852.38\n",
       "7                   7   2870930.27\n",
       "8                   8   2881388.79\n",
       "9                   9   1152451.59\n",
       "10                 10   2239982.82\n",
       "11                 11   1825302.35\n",
       "12                 12   2334359.31\n",
       "13                 13   1461801.20\n",
       "14                 14   2196300.75\n",
       "15                 15   1725043.87\n",
       "16                 16    886444.13\n",
       "17                 17    706235.66"
      ]
     },
     "execution_count": 153,
     "metadata": {},
     "output_type": "execute_result"
    }
   ],
   "source": [
    "total_por_15_años_cliente = df_filtered.groupby('aniosFidelizacion')['TotalSinIVA'].sum().reset_index().head(18)\n",
    "total_por_15_años_cliente"
   ]
  },
  {
   "cell_type": "code",
   "execution_count": 154,
   "metadata": {},
   "outputs": [
    {
     "data": {
      "text/html": [
       "<div>\n",
       "<style scoped>\n",
       "    .dataframe tbody tr th:only-of-type {\n",
       "        vertical-align: middle;\n",
       "    }\n",
       "\n",
       "    .dataframe tbody tr th {\n",
       "        vertical-align: top;\n",
       "    }\n",
       "\n",
       "    .dataframe thead th {\n",
       "        text-align: right;\n",
       "    }\n",
       "</style>\n",
       "<table border=\"1\" class=\"dataframe\">\n",
       "  <thead>\n",
       "    <tr style=\"text-align: right;\">\n",
       "      <th></th>\n",
       "      <th>aniosFidelizacion</th>\n",
       "      <th>CodigoCliente</th>\n",
       "    </tr>\n",
       "  </thead>\n",
       "  <tbody>\n",
       "    <tr>\n",
       "      <th>0</th>\n",
       "      <td>0</td>\n",
       "      <td>349</td>\n",
       "    </tr>\n",
       "    <tr>\n",
       "      <th>1</th>\n",
       "      <td>1</td>\n",
       "      <td>428</td>\n",
       "    </tr>\n",
       "    <tr>\n",
       "      <th>2</th>\n",
       "      <td>2</td>\n",
       "      <td>521</td>\n",
       "    </tr>\n",
       "    <tr>\n",
       "      <th>3</th>\n",
       "      <td>3</td>\n",
       "      <td>364</td>\n",
       "    </tr>\n",
       "    <tr>\n",
       "      <th>4</th>\n",
       "      <td>4</td>\n",
       "      <td>264</td>\n",
       "    </tr>\n",
       "    <tr>\n",
       "      <th>5</th>\n",
       "      <td>5</td>\n",
       "      <td>279</td>\n",
       "    </tr>\n",
       "    <tr>\n",
       "      <th>6</th>\n",
       "      <td>6</td>\n",
       "      <td>269</td>\n",
       "    </tr>\n",
       "    <tr>\n",
       "      <th>7</th>\n",
       "      <td>7</td>\n",
       "      <td>241</td>\n",
       "    </tr>\n",
       "    <tr>\n",
       "      <th>8</th>\n",
       "      <td>8</td>\n",
       "      <td>218</td>\n",
       "    </tr>\n",
       "    <tr>\n",
       "      <th>9</th>\n",
       "      <td>9</td>\n",
       "      <td>200</td>\n",
       "    </tr>\n",
       "    <tr>\n",
       "      <th>10</th>\n",
       "      <td>10</td>\n",
       "      <td>280</td>\n",
       "    </tr>\n",
       "    <tr>\n",
       "      <th>11</th>\n",
       "      <td>11</td>\n",
       "      <td>234</td>\n",
       "    </tr>\n",
       "    <tr>\n",
       "      <th>12</th>\n",
       "      <td>12</td>\n",
       "      <td>221</td>\n",
       "    </tr>\n",
       "    <tr>\n",
       "      <th>13</th>\n",
       "      <td>13</td>\n",
       "      <td>165</td>\n",
       "    </tr>\n",
       "    <tr>\n",
       "      <th>14</th>\n",
       "      <td>14</td>\n",
       "      <td>147</td>\n",
       "    </tr>\n",
       "    <tr>\n",
       "      <th>15</th>\n",
       "      <td>15</td>\n",
       "      <td>118</td>\n",
       "    </tr>\n",
       "    <tr>\n",
       "      <th>16</th>\n",
       "      <td>16</td>\n",
       "      <td>83</td>\n",
       "    </tr>\n",
       "    <tr>\n",
       "      <th>17</th>\n",
       "      <td>17</td>\n",
       "      <td>69</td>\n",
       "    </tr>\n",
       "    <tr>\n",
       "      <th>18</th>\n",
       "      <td>18</td>\n",
       "      <td>67</td>\n",
       "    </tr>\n",
       "    <tr>\n",
       "      <th>19</th>\n",
       "      <td>19</td>\n",
       "      <td>662</td>\n",
       "    </tr>\n",
       "    <tr>\n",
       "      <th>20</th>\n",
       "      <td>31</td>\n",
       "      <td>2</td>\n",
       "    </tr>\n",
       "  </tbody>\n",
       "</table>\n",
       "</div>"
      ],
      "text/plain": [
       "    aniosFidelizacion  CodigoCliente\n",
       "0                   0            349\n",
       "1                   1            428\n",
       "2                   2            521\n",
       "3                   3            364\n",
       "4                   4            264\n",
       "5                   5            279\n",
       "6                   6            269\n",
       "7                   7            241\n",
       "8                   8            218\n",
       "9                   9            200\n",
       "10                 10            280\n",
       "11                 11            234\n",
       "12                 12            221\n",
       "13                 13            165\n",
       "14                 14            147\n",
       "15                 15            118\n",
       "16                 16             83\n",
       "17                 17             69\n",
       "18                 18             67\n",
       "19                 19            662\n",
       "20                 31              2"
      ]
     },
     "execution_count": 154,
     "metadata": {},
     "output_type": "execute_result"
    }
   ],
   "source": [
    "cantidad_clientes_por_Años = df_filtered.groupby('aniosFidelizacion')['CodigoCliente'].nunique().reset_index()\n",
    "cantidad_clientes_por_Años"
   ]
  },
  {
   "cell_type": "code",
   "execution_count": 155,
   "metadata": {},
   "outputs": [
    {
     "data": {
      "text/html": [
       "<div>\n",
       "<style scoped>\n",
       "    .dataframe tbody tr th:only-of-type {\n",
       "        vertical-align: middle;\n",
       "    }\n",
       "\n",
       "    .dataframe tbody tr th {\n",
       "        vertical-align: top;\n",
       "    }\n",
       "\n",
       "    .dataframe thead th {\n",
       "        text-align: right;\n",
       "    }\n",
       "</style>\n",
       "<table border=\"1\" class=\"dataframe\">\n",
       "  <thead>\n",
       "    <tr style=\"text-align: right;\">\n",
       "      <th></th>\n",
       "      <th>NumeroDocumento</th>\n",
       "      <th>TotalSinIVA</th>\n",
       "    </tr>\n",
       "  </thead>\n",
       "  <tbody>\n",
       "    <tr>\n",
       "      <th>0</th>\n",
       "      <td>DAB0026481</td>\n",
       "      <td>56.20</td>\n",
       "    </tr>\n",
       "    <tr>\n",
       "      <th>1</th>\n",
       "      <td>DAB0026592</td>\n",
       "      <td>9.69</td>\n",
       "    </tr>\n",
       "    <tr>\n",
       "      <th>2</th>\n",
       "      <td>DAB0026593</td>\n",
       "      <td>1.97</td>\n",
       "    </tr>\n",
       "    <tr>\n",
       "      <th>3</th>\n",
       "      <td>DAB0026713</td>\n",
       "      <td>96.21</td>\n",
       "    </tr>\n",
       "    <tr>\n",
       "      <th>4</th>\n",
       "      <td>DAB0026716</td>\n",
       "      <td>19.70</td>\n",
       "    </tr>\n",
       "    <tr>\n",
       "      <th>...</th>\n",
       "      <td>...</td>\n",
       "      <td>...</td>\n",
       "    </tr>\n",
       "    <tr>\n",
       "      <th>106780</th>\n",
       "      <td>DUC0003500</td>\n",
       "      <td>213.43</td>\n",
       "    </tr>\n",
       "    <tr>\n",
       "      <th>106781</th>\n",
       "      <td>DUC0003501</td>\n",
       "      <td>121.96</td>\n",
       "    </tr>\n",
       "    <tr>\n",
       "      <th>106782</th>\n",
       "      <td>DUC0003502</td>\n",
       "      <td>91.47</td>\n",
       "    </tr>\n",
       "    <tr>\n",
       "      <th>106783</th>\n",
       "      <td>DUC0003516</td>\n",
       "      <td>197.56</td>\n",
       "    </tr>\n",
       "    <tr>\n",
       "      <th>106784</th>\n",
       "      <td>DUC0003517</td>\n",
       "      <td>189.00</td>\n",
       "    </tr>\n",
       "  </tbody>\n",
       "</table>\n",
       "<p>106785 rows × 2 columns</p>\n",
       "</div>"
      ],
      "text/plain": [
       "       NumeroDocumento  TotalSinIVA\n",
       "0           DAB0026481        56.20\n",
       "1           DAB0026592         9.69\n",
       "2           DAB0026593         1.97\n",
       "3           DAB0026713        96.21\n",
       "4           DAB0026716        19.70\n",
       "...                ...          ...\n",
       "106780      DUC0003500       213.43\n",
       "106781      DUC0003501       121.96\n",
       "106782      DUC0003502        91.47\n",
       "106783      DUC0003516       197.56\n",
       "106784      DUC0003517       189.00\n",
       "\n",
       "[106785 rows x 2 columns]"
      ]
     },
     "execution_count": 155,
     "metadata": {},
     "output_type": "execute_result"
    }
   ],
   "source": [
    "ventas_factura = df_filtered.groupby('NumeroDocumento')['TotalSinIVA'].sum().reset_index()\n",
    "ventas_factura"
   ]
  },
  {
   "cell_type": "code",
   "execution_count": 156,
   "metadata": {},
   "outputs": [
    {
     "name": "stderr",
     "output_type": "stream",
     "text": [
      "/home/eeveloza/anaconda3/lib/python3.11/site-packages/seaborn/_oldcore.py:1119: FutureWarning: use_inf_as_na option is deprecated and will be removed in a future version. Convert inf values to NaN before operating instead.\n",
      "  with pd.option_context('mode.use_inf_as_na', True):\n"
     ]
    },
    {
     "data": {
      "text/plain": [
       "<seaborn.axisgrid.FacetGrid at 0x7a10752537d0>"
      ]
     },
     "execution_count": 156,
     "metadata": {},
     "output_type": "execute_result"
    },
    {
     "data": {
      "image/png": "[encoded data removed]",
      "text/plain": [
       "<Figure size 500x500 with 1 Axes>"
      ]
     },
     "metadata": {},
     "output_type": "display_data"
    }
   ],
   "source": [
    "sns.displot(data=cantidad_clientes_por_Años, x=\"CodigoCliente\")"
   ]
  },
  {
   "cell_type": "code",
   "execution_count": 157,
   "metadata": {},
   "outputs": [
    {
     "data": {
      "text/plain": [
       "<Axes: xlabel='aniosFidelizacion', ylabel='TotalSinIVA'>"
      ]
     },
     "execution_count": 157,
     "metadata": {},
     "output_type": "execute_result"
    },
    {
     "data": {
      "image/png": "[encoded data removed]",
      "text/plain": [
       "<Figure size 640x480 with 1 Axes>"
      ]
     },
     "metadata": {},
     "output_type": "display_data"
    }
   ],
   "source": [
    "sns.regplot(data=total_por_15_años_cliente, x=\"aniosFidelizacion\", y=\"TotalSinIVA\")"
   ]
  },
  {
   "cell_type": "code",
   "execution_count": 158,
   "metadata": {},
   "outputs": [],
   "source": [
    "clientes_nuevos_por_vendedores = df_filtered[df_filtered['nuevo']].groupby('CodigoVendedor')['CodigoCliente'].nunique().reset_index()"
   ]
  },
  {
   "cell_type": "code",
   "execution_count": 159,
   "metadata": {},
   "outputs": [
    {
     "data": {
      "text/plain": [
       "43.77272727272727"
      ]
     },
     "execution_count": 159,
     "metadata": {},
     "output_type": "execute_result"
    }
   ],
   "source": [
    "clientes_nuevos_por_vendedores['CodigoCliente'].mean()"
   ]
  },
  {
   "cell_type": "markdown",
   "metadata": {},
   "source": [
    "10 vendedores no han traido clientes nuevos en el 2023"
   ]
  },
  {
   "cell_type": "code",
   "execution_count": 160,
   "metadata": {},
   "outputs": [
    {
     "data": {
      "text/plain": [
       "355.84634545092047"
      ]
     },
     "execution_count": 160,
     "metadata": {},
     "output_type": "execute_result"
    }
   ],
   "source": [
    "promedio_factura_cliente_nuevo = df_filtered[df_filtered['nuevo']].groupby('NumeroDocumento')['TotalSinIVA'].sum().reset_index()['TotalSinIVA'].mean()\n",
    "promedio_factura_cliente_nuevo"
   ]
  },
  {
   "cell_type": "code",
   "execution_count": 161,
   "metadata": {},
   "outputs": [
    {
     "data": {
      "text/plain": [
       "10708839.92"
      ]
     },
     "execution_count": 161,
     "metadata": {},
     "output_type": "execute_result"
    }
   ],
   "source": [
    "promedio_factura_cliente_nuevo = df_filtered[df_filtered['nuevo']].groupby('NumeroDocumento')['TotalSinIVA'].sum().reset_index()['TotalSinIVA'].sum()\n",
    "promedio_factura_cliente_nuevo"
   ]
  },
  {
   "cell_type": "code",
   "execution_count": 162,
   "metadata": {},
   "outputs": [
    {
     "data": {
      "text/plain": [
       "<Axes: xlabel='nuevo', ylabel='TotalSinIVA'>"
      ]
     },
     "execution_count": 162,
     "metadata": {},
     "output_type": "execute_result"
    },
    {
     "data": {
      "image/png": "[encoded data removed]",
      "text/plain": [
       "<Figure size 640x480 with 1 Axes>"
      ]
     },
     "metadata": {},
     "output_type": "display_data"
    }
   ],
   "source": [
    "sns.barplot(df_filtered, x=\"nuevo\", y=\"TotalSinIVA\", estimator=\"sum\", errorbar=None)"
   ]
  },
  {
   "cell_type": "code",
   "execution_count": 163,
   "metadata": {},
   "outputs": [
    {
     "data": {
      "image/png": "[encoded data removed]",
      "text/plain": [
       "<Figure size 800x800 with 1 Axes>"
      ]
     },
     "metadata": {},
     "output_type": "display_data"
    }
   ],
   "source": [
    "df_filtered['nuevo'].value_counts().plot.pie( autopct='%1.1f%%', figsize=(8,8))\n",
    "plt.title('Porcentaje de Ingresos Por Clientes Nuevos')\n",
    "plt.show()"
   ]
  },
  {
   "cell_type": "code",
   "execution_count": 164,
   "metadata": {},
   "outputs": [
    {
     "data": {
      "text/html": [
       "<div>\n",
       "<style scoped>\n",
       "    .dataframe tbody tr th:only-of-type {\n",
       "        vertical-align: middle;\n",
       "    }\n",
       "\n",
       "    .dataframe tbody tr th {\n",
       "        vertical-align: top;\n",
       "    }\n",
       "\n",
       "    .dataframe thead th {\n",
       "        text-align: right;\n",
       "    }\n",
       "</style>\n",
       "<table border=\"1\" class=\"dataframe\">\n",
       "  <thead>\n",
       "    <tr style=\"text-align: right;\">\n",
       "      <th></th>\n",
       "      <th>CodigoCliente</th>\n",
       "      <th>nuevo</th>\n",
       "      <th>NumeroDocumento</th>\n",
       "    </tr>\n",
       "  </thead>\n",
       "  <tbody>\n",
       "    <tr>\n",
       "      <th>0</th>\n",
       "      <td>1000016</td>\n",
       "      <td>False</td>\n",
       "      <td>10</td>\n",
       "    </tr>\n",
       "    <tr>\n",
       "      <th>1</th>\n",
       "      <td>1000087</td>\n",
       "      <td>False</td>\n",
       "      <td>5</td>\n",
       "    </tr>\n",
       "    <tr>\n",
       "      <th>2</th>\n",
       "      <td>1000171</td>\n",
       "      <td>False</td>\n",
       "      <td>21</td>\n",
       "    </tr>\n",
       "    <tr>\n",
       "      <th>3</th>\n",
       "      <td>1000176</td>\n",
       "      <td>False</td>\n",
       "      <td>2</td>\n",
       "    </tr>\n",
       "    <tr>\n",
       "      <th>4</th>\n",
       "      <td>1000178</td>\n",
       "      <td>False</td>\n",
       "      <td>1</td>\n",
       "    </tr>\n",
       "    <tr>\n",
       "      <th>...</th>\n",
       "      <td>...</td>\n",
       "      <td>...</td>\n",
       "      <td>...</td>\n",
       "    </tr>\n",
       "    <tr>\n",
       "      <th>5176</th>\n",
       "      <td>5000898</td>\n",
       "      <td>True</td>\n",
       "      <td>9</td>\n",
       "    </tr>\n",
       "    <tr>\n",
       "      <th>5177</th>\n",
       "      <td>5009996</td>\n",
       "      <td>False</td>\n",
       "      <td>21</td>\n",
       "    </tr>\n",
       "    <tr>\n",
       "      <th>5178</th>\n",
       "      <td>5009999</td>\n",
       "      <td>False</td>\n",
       "      <td>16</td>\n",
       "    </tr>\n",
       "    <tr>\n",
       "      <th>5179</th>\n",
       "      <td>CU00503</td>\n",
       "      <td>True</td>\n",
       "      <td>47</td>\n",
       "    </tr>\n",
       "    <tr>\n",
       "      <th>5180</th>\n",
       "      <td>CU02496</td>\n",
       "      <td>True</td>\n",
       "      <td>2</td>\n",
       "    </tr>\n",
       "  </tbody>\n",
       "</table>\n",
       "<p>5181 rows × 3 columns</p>\n",
       "</div>"
      ],
      "text/plain": [
       "     CodigoCliente  nuevo  NumeroDocumento\n",
       "0          1000016  False               10\n",
       "1          1000087  False                5\n",
       "2          1000171  False               21\n",
       "3          1000176  False                2\n",
       "4          1000178  False                1\n",
       "...            ...    ...              ...\n",
       "5176       5000898   True                9\n",
       "5177       5009996  False               21\n",
       "5178       5009999  False               16\n",
       "5179       CU00503   True               47\n",
       "5180       CU02496   True                2\n",
       "\n",
       "[5181 rows x 3 columns]"
      ]
     },
     "execution_count": 164,
     "metadata": {},
     "output_type": "execute_result"
    }
   ],
   "source": [
    "df_filtered.groupby(['CodigoCliente', 'nuevo'])['NumeroDocumento'].nunique().reset_index()"
   ]
  },
  {
   "cell_type": "code",
   "execution_count": 165,
   "metadata": {},
   "outputs": [],
   "source": [
    "top_clientes_viejos = df_filtered[(~df_filtered['nuevo']) & (df_filtered['TotalSinIVA']>0)].groupby(['CodigoCliente'])['TotalSinIVA'].sum().reset_index().sort_values(by='TotalSinIVA', ascending=False)\n",
    "top_30 = top_clientes_viejos.head(30)\n",
    "resto = top_clientes_viejos.loc[top_clientes_viejos.index.difference(top_30.index)]"
   ]
  },
  {
   "cell_type": "code",
   "execution_count": 166,
   "metadata": {},
   "outputs": [],
   "source": [
    "top_clientes_nuevos = df_filtered[(df_filtered['nuevo']) & (df_filtered['TotalSinIVA']>0)].groupby(['CodigoCliente'])['TotalSinIVA'].sum().reset_index().sort_values(by='TotalSinIVA', ascending=False)"
   ]
  },
  {
   "cell_type": "code",
   "execution_count": 167,
   "metadata": {},
   "outputs": [
    {
     "data": {
      "text/plain": [
       "5949.782663526948"
      ]
     },
     "execution_count": 167,
     "metadata": {},
     "output_type": "execute_result"
    }
   ],
   "source": [
    "top_clientes_nuevos['TotalSinIVA'].mean()"
   ]
  },
  {
   "cell_type": "code",
   "execution_count": 168,
   "metadata": {},
   "outputs": [
    {
     "data": {
      "text/plain": [
       "9758.061257000623"
      ]
     },
     "execution_count": 168,
     "metadata": {},
     "output_type": "execute_result"
    }
   ],
   "source": [
    "resto['TotalSinIVA'].mean()"
   ]
  },
  {
   "cell_type": "code",
   "execution_count": 169,
   "metadata": {},
   "outputs": [
    {
     "data": {
      "text/plain": [
       "15991772.42"
      ]
     },
     "execution_count": 169,
     "metadata": {},
     "output_type": "execute_result"
    }
   ],
   "source": [
    "top_30['TotalSinIVA'].sum() #total top 10 clientes antigues en 20023"
   ]
  },
  {
   "cell_type": "code",
   "execution_count": 170,
   "metadata": {},
   "outputs": [
    {
     "data": {
      "text/plain": [
       "533059.0806666666"
      ]
     },
     "execution_count": 170,
     "metadata": {},
     "output_type": "execute_result"
    }
   ],
   "source": [
    "top_30['TotalSinIVA'].mean()"
   ]
  },
  {
   "cell_type": "code",
   "execution_count": 171,
   "metadata": {},
   "outputs": [],
   "source": [
    "labels = ['1% clientes', '99% clientes']\n",
    "values = [top_30['TotalSinIVA'].sum(),  resto['TotalSinIVA'].sum()]"
   ]
  },
  {
   "cell_type": "code",
   "execution_count": 172,
   "metadata": {},
   "outputs": [],
   "source": [
    "data = {'labels': labels,\n",
    "        'values': values}\n",
    "\n",
    "totales_pc= pd.DataFrame(data)"
   ]
  },
  {
   "cell_type": "code",
   "execution_count": 173,
   "metadata": {},
   "outputs": [
    {
     "data": {
      "image/png": "[encoded data removed]",
      "text/plain": [
       "<Figure size 600x600 with 1 Axes>"
      ]
     },
     "metadata": {},
     "output_type": "display_data"
    }
   ],
   "source": [
    "sns.set_style(\"whitegrid\")\n",
    "plt.figure(figsize=(6,6))\n",
    "plt.pie(totales_pc['values'], labels=totales_pc['labels'], autopct='%1.1f%%')\n",
    "plt.title('Total Ganancias por clientes')\n",
    "plt.show()"
   ]
  },
  {
   "cell_type": "code",
   "execution_count": 174,
   "metadata": {},
   "outputs": [],
   "source": [
    "def asignar_categoria(codigo):\n",
    "    if str(codigo).startswith('1'):\n",
    "        return 'Arquitectonica'\n",
    "    elif str(codigo).startswith('2'):\n",
    "        return 'Automotriz'\n",
    "    elif str(codigo).startswith('3'):\n",
    "        return 'Madera'\n",
    "    elif str(codigo).startswith('8'):\n",
    "        return 'Industrial'\n",
    "    else:\n",
    "        return 'Otros'\n",
    "\n",
    "df_filtered['categoria'] = df_filtered['ClaseDeProducto'].apply(asignar_categoria)"
   ]
  },
  {
   "cell_type": "code",
   "execution_count": 175,
   "metadata": {},
   "outputs": [
    {
     "data": {
      "text/html": [
       "<div>\n",
       "<style scoped>\n",
       "    .dataframe tbody tr th:only-of-type {\n",
       "        vertical-align: middle;\n",
       "    }\n",
       "\n",
       "    .dataframe tbody tr th {\n",
       "        vertical-align: top;\n",
       "    }\n",
       "\n",
       "    .dataframe thead th {\n",
       "        text-align: right;\n",
       "    }\n",
       "</style>\n",
       "<table border=\"1\" class=\"dataframe\">\n",
       "  <thead>\n",
       "    <tr style=\"text-align: right;\">\n",
       "      <th></th>\n",
       "      <th>CodigoVendedor</th>\n",
       "      <th>CodigoCliente</th>\n",
       "      <th>TotalSinIVA</th>\n",
       "    </tr>\n",
       "  </thead>\n",
       "  <tbody>\n",
       "    <tr>\n",
       "      <th>0</th>\n",
       "      <td>7</td>\n",
       "      <td>1000016</td>\n",
       "      <td>206.74</td>\n",
       "    </tr>\n",
       "    <tr>\n",
       "      <th>1</th>\n",
       "      <td>7</td>\n",
       "      <td>1000087</td>\n",
       "      <td>226.88</td>\n",
       "    </tr>\n",
       "    <tr>\n",
       "      <th>2</th>\n",
       "      <td>7</td>\n",
       "      <td>1000176</td>\n",
       "      <td>25.67</td>\n",
       "    </tr>\n",
       "    <tr>\n",
       "      <th>3</th>\n",
       "      <td>7</td>\n",
       "      <td>1000178</td>\n",
       "      <td>10.00</td>\n",
       "    </tr>\n",
       "    <tr>\n",
       "      <th>4</th>\n",
       "      <td>7</td>\n",
       "      <td>1000197</td>\n",
       "      <td>30.47</td>\n",
       "    </tr>\n",
       "    <tr>\n",
       "      <th>...</th>\n",
       "      <td>...</td>\n",
       "      <td>...</td>\n",
       "      <td>...</td>\n",
       "    </tr>\n",
       "    <tr>\n",
       "      <th>2404</th>\n",
       "      <td>999</td>\n",
       "      <td>1007846</td>\n",
       "      <td>122.14</td>\n",
       "    </tr>\n",
       "    <tr>\n",
       "      <th>2405</th>\n",
       "      <td>999</td>\n",
       "      <td>5000374</td>\n",
       "      <td>22.80</td>\n",
       "    </tr>\n",
       "    <tr>\n",
       "      <th>2406</th>\n",
       "      <td>999</td>\n",
       "      <td>1006152</td>\n",
       "      <td>432.98</td>\n",
       "    </tr>\n",
       "    <tr>\n",
       "      <th>2407</th>\n",
       "      <td>999</td>\n",
       "      <td>1006325</td>\n",
       "      <td>6.68</td>\n",
       "    </tr>\n",
       "    <tr>\n",
       "      <th>2408</th>\n",
       "      <td>999</td>\n",
       "      <td>1006914</td>\n",
       "      <td>17.29</td>\n",
       "    </tr>\n",
       "  </tbody>\n",
       "</table>\n",
       "<p>2409 rows × 3 columns</p>\n",
       "</div>"
      ],
      "text/plain": [
       "      CodigoVendedor CodigoCliente  TotalSinIVA\n",
       "0                  7       1000016       206.74\n",
       "1                  7       1000087       226.88\n",
       "2                  7       1000176        25.67\n",
       "3                  7       1000178        10.00\n",
       "4                  7       1000197        30.47\n",
       "...              ...           ...          ...\n",
       "2404             999       1007846       122.14\n",
       "2405             999       5000374        22.80\n",
       "2406             999       1006152       432.98\n",
       "2407             999       1006325         6.68\n",
       "2408             999       1006914        17.29\n",
       "\n",
       "[2409 rows x 3 columns]"
      ]
     },
     "execution_count": 175,
     "metadata": {},
     "output_type": "execute_result"
    }
   ],
   "source": [
    "totales_vendedor_cliente = df_filtered[df_filtered['CodigoSucursal']=='MA'].groupby(['CodigoVendedor', 'CodigoCliente'])['TotalSinIVA'].sum().reset_index()\n",
    "totales_vendedor_cliente"
   ]
  },
  {
   "cell_type": "code",
   "execution_count": 176,
   "metadata": {},
   "outputs": [],
   "source": [
    "cantones = pd.read_csv('../data/cantones.csv')"
   ]
  },
  {
   "cell_type": "code",
   "execution_count": 177,
   "metadata": {},
   "outputs": [
    {
     "name": "stdout",
     "output_type": "stream",
     "text": [
      "<class 'pandas.core.frame.DataFrame'>\n",
      "RangeIndex: 5 entries, 0 to 4\n",
      "Data columns (total 11 columns):\n",
      " #   Column                 Non-Null Count  Dtype  \n",
      "---  ------                 --------------  -----  \n",
      " 0   Unnamed: 0             5 non-null      int64  \n",
      " 1   Sucursal               5 non-null      object \n",
      " 2   region                 5 non-null      object \n",
      " 3   superficie             5 non-null      float64\n",
      " 4   provincia              5 non-null      object \n",
      " 5   # Clientes             5 non-null      int64  \n",
      " 6   Universo Construccion  5 non-null      int64  \n",
      " 7   % Captados             5 non-null      float64\n",
      " 8   geometry               5 non-null      object \n",
      " 9   Clientes               5 non-null      int64  \n",
      " 10  % Share                5 non-null      float64\n",
      "dtypes: float64(3), int64(4), object(4)\n",
      "memory usage: 572.0+ bytes\n"
     ]
    }
   ],
   "source": [
    "cantones.info()"
   ]
  },
  {
   "cell_type": "code",
   "execution_count": 178,
   "metadata": {},
   "outputs": [
    {
     "data": {
      "text/html": [
       "<div>\n",
       "<style scoped>\n",
       "    .dataframe tbody tr th:only-of-type {\n",
       "        vertical-align: middle;\n",
       "    }\n",
       "\n",
       "    .dataframe tbody tr th {\n",
       "        vertical-align: top;\n",
       "    }\n",
       "\n",
       "    .dataframe thead th {\n",
       "        text-align: right;\n",
       "    }\n",
       "</style>\n",
       "<table border=\"1\" class=\"dataframe\">\n",
       "  <thead>\n",
       "    <tr style=\"text-align: right;\">\n",
       "      <th></th>\n",
       "      <th>Unnamed: 0</th>\n",
       "      <th>Sucursal</th>\n",
       "      <th>region</th>\n",
       "      <th>superficie</th>\n",
       "      <th>provincia</th>\n",
       "      <th># Clientes</th>\n",
       "      <th>Universo Construccion</th>\n",
       "      <th>% Captados</th>\n",
       "      <th>geometry</th>\n",
       "      <th>Clientes</th>\n",
       "      <th>% Share</th>\n",
       "    </tr>\n",
       "  </thead>\n",
       "  <tbody>\n",
       "    <tr>\n",
       "      <th>0</th>\n",
       "      <td>0</td>\n",
       "      <td>MACHALA</td>\n",
       "      <td>COSTA</td>\n",
       "      <td>372.403254</td>\n",
       "      <td>EL ORO</td>\n",
       "      <td>222</td>\n",
       "      <td>296</td>\n",
       "      <td>75.00</td>\n",
       "      <td>POLYGON Z ((-79.92875756702288 -3.171049806114...</td>\n",
       "      <td>65</td>\n",
       "      <td>21.959459</td>\n",
       "    </tr>\n",
       "    <tr>\n",
       "      <th>1</th>\n",
       "      <td>1</td>\n",
       "      <td>GUAYAQUIL</td>\n",
       "      <td>COSTA</td>\n",
       "      <td>4827.076279</td>\n",
       "      <td>GUAYAS</td>\n",
       "      <td>1354</td>\n",
       "      <td>1779</td>\n",
       "      <td>76.11</td>\n",
       "      <td>MULTIPOLYGON Z (((-79.78230504658983 -2.947847...</td>\n",
       "      <td>365</td>\n",
       "      <td>20.517144</td>\n",
       "    </tr>\n",
       "    <tr>\n",
       "      <th>2</th>\n",
       "      <td>2</td>\n",
       "      <td>MANTA</td>\n",
       "      <td>COSTA</td>\n",
       "      <td>296.084576</td>\n",
       "      <td>MANABI</td>\n",
       "      <td>239</td>\n",
       "      <td>161</td>\n",
       "      <td>100.00</td>\n",
       "      <td>MULTIPOLYGON Z (((-81.07347253555112 -1.259911...</td>\n",
       "      <td>67</td>\n",
       "      <td>41.614907</td>\n",
       "    </tr>\n",
       "    <tr>\n",
       "      <th>3</th>\n",
       "      <td>3</td>\n",
       "      <td>QUITO</td>\n",
       "      <td>SIERRA</td>\n",
       "      <td>4200.905341</td>\n",
       "      <td>PICHINCHA</td>\n",
       "      <td>671</td>\n",
       "      <td>1527</td>\n",
       "      <td>43.94</td>\n",
       "      <td>POLYGON Z ((-78.49460680364508 0.2739011888077...</td>\n",
       "      <td>264</td>\n",
       "      <td>17.288802</td>\n",
       "    </tr>\n",
       "    <tr>\n",
       "      <th>4</th>\n",
       "      <td>4</td>\n",
       "      <td>AMBATO</td>\n",
       "      <td>SIERRA</td>\n",
       "      <td>1022.317480</td>\n",
       "      <td>TUNGURAHUA</td>\n",
       "      <td>397</td>\n",
       "      <td>371</td>\n",
       "      <td>100.00</td>\n",
       "      <td>POLYGON Z ((-78.61245227442937 -1.110025187337...</td>\n",
       "      <td>72</td>\n",
       "      <td>19.407008</td>\n",
       "    </tr>\n",
       "  </tbody>\n",
       "</table>\n",
       "</div>"
      ],
      "text/plain": [
       "   Unnamed: 0   Sucursal  region   superficie   provincia  # Clientes  \\\n",
       "0           0    MACHALA   COSTA   372.403254      EL ORO         222   \n",
       "1           1  GUAYAQUIL   COSTA  4827.076279      GUAYAS        1354   \n",
       "2           2      MANTA   COSTA   296.084576      MANABI         239   \n",
       "3           3      QUITO  SIERRA  4200.905341   PICHINCHA         671   \n",
       "4           4     AMBATO  SIERRA  1022.317480  TUNGURAHUA         397   \n",
       "\n",
       "   Universo Construccion  % Captados  \\\n",
       "0                    296       75.00   \n",
       "1                   1779       76.11   \n",
       "2                    161      100.00   \n",
       "3                   1527       43.94   \n",
       "4                    371      100.00   \n",
       "\n",
       "                                            geometry  Clientes    % Share  \n",
       "0  POLYGON Z ((-79.92875756702288 -3.171049806114...        65  21.959459  \n",
       "1  MULTIPOLYGON Z (((-79.78230504658983 -2.947847...       365  20.517144  \n",
       "2  MULTIPOLYGON Z (((-81.07347253555112 -1.259911...        67  41.614907  \n",
       "3  POLYGON Z ((-78.49460680364508 0.2739011888077...       264  17.288802  \n",
       "4  POLYGON Z ((-78.61245227442937 -1.110025187337...        72  19.407008  "
      ]
     },
     "execution_count": 178,
     "metadata": {},
     "output_type": "execute_result"
    }
   ],
   "source": [
    "cantones.head()"
   ]
  },
  {
   "cell_type": "code",
   "execution_count": 179,
   "metadata": {},
   "outputs": [
    {
     "data": {
      "text/plain": [
       "349"
      ]
     },
     "execution_count": 179,
     "metadata": {},
     "output_type": "execute_result"
    }
   ],
   "source": [
    "df_filtered[df_filtered['FechaCreacionCliente'].dt.year == 2023]['CodigoCliente'].nunique() "
   ]
  },
  {
   "cell_type": "code",
   "execution_count": 180,
   "metadata": {},
   "outputs": [],
   "source": [
    "clientes_nuevos = df_filtered[df_filtered['FechaCreacionCliente'].dt.year == 2023]"
   ]
  },
  {
   "cell_type": "code",
   "execution_count": 181,
   "metadata": {},
   "outputs": [
    {
     "data": {
      "text/html": [
       "<div>\n",
       "<style scoped>\n",
       "    .dataframe tbody tr th:only-of-type {\n",
       "        vertical-align: middle;\n",
       "    }\n",
       "\n",
       "    .dataframe tbody tr th {\n",
       "        vertical-align: top;\n",
       "    }\n",
       "\n",
       "    .dataframe thead th {\n",
       "        text-align: right;\n",
       "    }\n",
       "</style>\n",
       "<table border=\"1\" class=\"dataframe\">\n",
       "  <thead>\n",
       "    <tr style=\"text-align: right;\">\n",
       "      <th></th>\n",
       "      <th>EtiquetaSucursal</th>\n",
       "      <th>CodigoCliente</th>\n",
       "    </tr>\n",
       "  </thead>\n",
       "  <tbody>\n",
       "    <tr>\n",
       "      <th>0</th>\n",
       "      <td>Ambato</td>\n",
       "      <td>42</td>\n",
       "    </tr>\n",
       "    <tr>\n",
       "      <th>1</th>\n",
       "      <td>Guayaquil</td>\n",
       "      <td>156</td>\n",
       "    </tr>\n",
       "    <tr>\n",
       "      <th>2</th>\n",
       "      <td>Machala</td>\n",
       "      <td>23</td>\n",
       "    </tr>\n",
       "    <tr>\n",
       "      <th>3</th>\n",
       "      <td>Manta</td>\n",
       "      <td>25</td>\n",
       "    </tr>\n",
       "    <tr>\n",
       "      <th>4</th>\n",
       "      <td>Quito</td>\n",
       "      <td>103</td>\n",
       "    </tr>\n",
       "  </tbody>\n",
       "</table>\n",
       "</div>"
      ],
      "text/plain": [
       "  EtiquetaSucursal  CodigoCliente\n",
       "0           Ambato             42\n",
       "1        Guayaquil            156\n",
       "2          Machala             23\n",
       "3            Manta             25\n",
       "4            Quito            103"
      ]
     },
     "execution_count": 181,
     "metadata": {},
     "output_type": "execute_result"
    }
   ],
   "source": [
    "clientes_nuevos_sucursal = clientes_nuevos.groupby('EtiquetaSucursal')['CodigoCliente'].nunique().reset_index()\n",
    "clientes_nuevos_sucursal"
   ]
  },
  {
   "cell_type": "code",
   "execution_count": 182,
   "metadata": {},
   "outputs": [],
   "source": [
    "dfw = vendedores_sucursal.merge(clientes_nuevos_sucursal, on='EtiquetaSucursal')"
   ]
  },
  {
   "cell_type": "code",
   "execution_count": 183,
   "metadata": {},
   "outputs": [],
   "source": [
    "dfw['clienteNuevoPorVendedor'] = dfw['CodigoCliente'] / dfw['CodigoVendedor']"
   ]
  },
  {
   "cell_type": "code",
   "execution_count": 184,
   "metadata": {},
   "outputs": [
    {
     "data": {
      "text/html": [
       "<div>\n",
       "<style scoped>\n",
       "    .dataframe tbody tr th:only-of-type {\n",
       "        vertical-align: middle;\n",
       "    }\n",
       "\n",
       "    .dataframe tbody tr th {\n",
       "        vertical-align: top;\n",
       "    }\n",
       "\n",
       "    .dataframe thead th {\n",
       "        text-align: right;\n",
       "    }\n",
       "</style>\n",
       "<table border=\"1\" class=\"dataframe\">\n",
       "  <thead>\n",
       "    <tr style=\"text-align: right;\">\n",
       "      <th></th>\n",
       "      <th>EtiquetaSucursal</th>\n",
       "      <th>CodigoVendedor</th>\n",
       "      <th>CodigoCliente</th>\n",
       "      <th>clienteNuevoPorVendedor</th>\n",
       "    </tr>\n",
       "  </thead>\n",
       "  <tbody>\n",
       "    <tr>\n",
       "      <th>0</th>\n",
       "      <td>Ambato</td>\n",
       "      <td>7</td>\n",
       "      <td>42</td>\n",
       "      <td>6.000000</td>\n",
       "    </tr>\n",
       "    <tr>\n",
       "      <th>1</th>\n",
       "      <td>Guayaquil</td>\n",
       "      <td>24</td>\n",
       "      <td>156</td>\n",
       "      <td>6.500000</td>\n",
       "    </tr>\n",
       "    <tr>\n",
       "      <th>2</th>\n",
       "      <td>Machala</td>\n",
       "      <td>7</td>\n",
       "      <td>23</td>\n",
       "      <td>3.285714</td>\n",
       "    </tr>\n",
       "    <tr>\n",
       "      <th>3</th>\n",
       "      <td>Manta</td>\n",
       "      <td>8</td>\n",
       "      <td>25</td>\n",
       "      <td>3.125000</td>\n",
       "    </tr>\n",
       "    <tr>\n",
       "      <th>4</th>\n",
       "      <td>Quito</td>\n",
       "      <td>16</td>\n",
       "      <td>103</td>\n",
       "      <td>6.437500</td>\n",
       "    </tr>\n",
       "  </tbody>\n",
       "</table>\n",
       "</div>"
      ],
      "text/plain": [
       "  EtiquetaSucursal  CodigoVendedor  CodigoCliente  clienteNuevoPorVendedor\n",
       "0           Ambato               7             42                 6.000000\n",
       "1        Guayaquil              24            156                 6.500000\n",
       "2          Machala               7             23                 3.285714\n",
       "3            Manta               8             25                 3.125000\n",
       "4            Quito              16            103                 6.437500"
      ]
     },
     "execution_count": 184,
     "metadata": {},
     "output_type": "execute_result"
    }
   ],
   "source": [
    "dfw"
   ]
  },
  {
   "cell_type": "code",
   "execution_count": 185,
   "metadata": {},
   "outputs": [
    {
     "data": {
      "text/html": [
       "<div>\n",
       "<style scoped>\n",
       "    .dataframe tbody tr th:only-of-type {\n",
       "        vertical-align: middle;\n",
       "    }\n",
       "\n",
       "    .dataframe tbody tr th {\n",
       "        vertical-align: top;\n",
       "    }\n",
       "\n",
       "    .dataframe thead th {\n",
       "        text-align: right;\n",
       "    }\n",
       "</style>\n",
       "<table border=\"1\" class=\"dataframe\">\n",
       "  <thead>\n",
       "    <tr style=\"text-align: right;\">\n",
       "      <th></th>\n",
       "      <th>EtiquetaSucursal</th>\n",
       "      <th>TotalSinIVA</th>\n",
       "    </tr>\n",
       "  </thead>\n",
       "  <tbody>\n",
       "    <tr>\n",
       "      <th>0</th>\n",
       "      <td>Ambato</td>\n",
       "      <td>39.897514</td>\n",
       "    </tr>\n",
       "    <tr>\n",
       "      <th>1</th>\n",
       "      <td>Guayaquil</td>\n",
       "      <td>63.507347</td>\n",
       "    </tr>\n",
       "    <tr>\n",
       "      <th>2</th>\n",
       "      <td>Machala</td>\n",
       "      <td>61.770419</td>\n",
       "    </tr>\n",
       "    <tr>\n",
       "      <th>3</th>\n",
       "      <td>Manta</td>\n",
       "      <td>40.047938</td>\n",
       "    </tr>\n",
       "    <tr>\n",
       "      <th>4</th>\n",
       "      <td>Quito</td>\n",
       "      <td>47.557067</td>\n",
       "    </tr>\n",
       "  </tbody>\n",
       "</table>\n",
       "</div>"
      ],
      "text/plain": [
       "  EtiquetaSucursal  TotalSinIVA\n",
       "0           Ambato    39.897514\n",
       "1        Guayaquil    63.507347\n",
       "2          Machala    61.770419\n",
       "3            Manta    40.047938\n",
       "4            Quito    47.557067"
      ]
     },
     "execution_count": 185,
     "metadata": {},
     "output_type": "execute_result"
    }
   ],
   "source": [
    "ticket_promedio = df_filtered[df_filtered['nuevo']].groupby('EtiquetaSucursal')['TotalSinIVA'].mean().reset_index()\n",
    "ticket_promedio "
   ]
  },
  {
   "cell_type": "code",
   "execution_count": 186,
   "metadata": {},
   "outputs": [],
   "source": [
    "dfw = dfw.merge(ticket_promedio, on='EtiquetaSucursal')\n",
    "dfw = dfw.rename(columns={'TotalSinIVA':'promedio_ticket'})"
   ]
  },
  {
   "cell_type": "code",
   "execution_count": 187,
   "metadata": {},
   "outputs": [
    {
     "data": {
      "text/html": [
       "<div>\n",
       "<style scoped>\n",
       "    .dataframe tbody tr th:only-of-type {\n",
       "        vertical-align: middle;\n",
       "    }\n",
       "\n",
       "    .dataframe tbody tr th {\n",
       "        vertical-align: top;\n",
       "    }\n",
       "\n",
       "    .dataframe thead th {\n",
       "        text-align: right;\n",
       "    }\n",
       "</style>\n",
       "<table border=\"1\" class=\"dataframe\">\n",
       "  <thead>\n",
       "    <tr style=\"text-align: right;\">\n",
       "      <th></th>\n",
       "      <th>EtiquetaSucursal</th>\n",
       "      <th>TotalSinIVA</th>\n",
       "    </tr>\n",
       "  </thead>\n",
       "  <tbody>\n",
       "    <tr>\n",
       "      <th>0</th>\n",
       "      <td>Ambato</td>\n",
       "      <td>68.822394</td>\n",
       "    </tr>\n",
       "    <tr>\n",
       "      <th>1</th>\n",
       "      <td>Guayaquil</td>\n",
       "      <td>97.601810</td>\n",
       "    </tr>\n",
       "    <tr>\n",
       "      <th>2</th>\n",
       "      <td>Machala</td>\n",
       "      <td>115.587786</td>\n",
       "    </tr>\n",
       "    <tr>\n",
       "      <th>3</th>\n",
       "      <td>Manta</td>\n",
       "      <td>109.374101</td>\n",
       "    </tr>\n",
       "    <tr>\n",
       "      <th>4</th>\n",
       "      <td>Quito</td>\n",
       "      <td>121.904483</td>\n",
       "    </tr>\n",
       "  </tbody>\n",
       "</table>\n",
       "</div>"
      ],
      "text/plain": [
       "  EtiquetaSucursal  TotalSinIVA\n",
       "0           Ambato    68.822394\n",
       "1        Guayaquil    97.601810\n",
       "2          Machala   115.587786\n",
       "3            Manta   109.374101\n",
       "4            Quito   121.904483"
      ]
     },
     "execution_count": 187,
     "metadata": {},
     "output_type": "execute_result"
    }
   ],
   "source": [
    "count_visitas = df_filtered[df_filtered['nuevo']].groupby(['EtiquetaSucursal', 'CodigoCliente'])['TotalSinIVA'].count().reset_index()\n",
    "promedio_visitas = count_visitas.groupby('EtiquetaSucursal')['TotalSinIVA'].mean().reset_index()\n",
    "promedio_visitas"
   ]
  },
  {
   "cell_type": "code",
   "execution_count": 188,
   "metadata": {},
   "outputs": [],
   "source": [
    "dfw2 = dfw.merge(promedio_visitas, on='EtiquetaSucursal')"
   ]
  },
  {
   "cell_type": "code",
   "execution_count": 189,
   "metadata": {},
   "outputs": [],
   "source": [
    "dfw2 = dfw2.rename(columns={'TotalSinIVA':'count_visitas', 'TotalSinIVA_y':'ticket_promedio'})"
   ]
  },
  {
   "cell_type": "code",
   "execution_count": 190,
   "metadata": {},
   "outputs": [
    {
     "data": {
      "text/html": [
       "<div>\n",
       "<style scoped>\n",
       "    .dataframe tbody tr th:only-of-type {\n",
       "        vertical-align: middle;\n",
       "    }\n",
       "\n",
       "    .dataframe tbody tr th {\n",
       "        vertical-align: top;\n",
       "    }\n",
       "\n",
       "    .dataframe thead th {\n",
       "        text-align: right;\n",
       "    }\n",
       "</style>\n",
       "<table border=\"1\" class=\"dataframe\">\n",
       "  <thead>\n",
       "    <tr style=\"text-align: right;\">\n",
       "      <th></th>\n",
       "      <th>EtiquetaSucursal</th>\n",
       "      <th>CodigoVendedor</th>\n",
       "      <th>CodigoCliente</th>\n",
       "      <th>clienteNuevoPorVendedor</th>\n",
       "      <th>promedio_ticket</th>\n",
       "      <th>count_visitas</th>\n",
       "    </tr>\n",
       "  </thead>\n",
       "  <tbody>\n",
       "    <tr>\n",
       "      <th>0</th>\n",
       "      <td>Ambato</td>\n",
       "      <td>7</td>\n",
       "      <td>42</td>\n",
       "      <td>6.000000</td>\n",
       "      <td>39.897514</td>\n",
       "      <td>68.822394</td>\n",
       "    </tr>\n",
       "    <tr>\n",
       "      <th>1</th>\n",
       "      <td>Guayaquil</td>\n",
       "      <td>24</td>\n",
       "      <td>156</td>\n",
       "      <td>6.500000</td>\n",
       "      <td>63.507347</td>\n",
       "      <td>97.601810</td>\n",
       "    </tr>\n",
       "    <tr>\n",
       "      <th>2</th>\n",
       "      <td>Machala</td>\n",
       "      <td>7</td>\n",
       "      <td>23</td>\n",
       "      <td>3.285714</td>\n",
       "      <td>61.770419</td>\n",
       "      <td>115.587786</td>\n",
       "    </tr>\n",
       "    <tr>\n",
       "      <th>3</th>\n",
       "      <td>Manta</td>\n",
       "      <td>8</td>\n",
       "      <td>25</td>\n",
       "      <td>3.125000</td>\n",
       "      <td>40.047938</td>\n",
       "      <td>109.374101</td>\n",
       "    </tr>\n",
       "    <tr>\n",
       "      <th>4</th>\n",
       "      <td>Quito</td>\n",
       "      <td>16</td>\n",
       "      <td>103</td>\n",
       "      <td>6.437500</td>\n",
       "      <td>47.557067</td>\n",
       "      <td>121.904483</td>\n",
       "    </tr>\n",
       "  </tbody>\n",
       "</table>\n",
       "</div>"
      ],
      "text/plain": [
       "  EtiquetaSucursal  CodigoVendedor  CodigoCliente  clienteNuevoPorVendedor  \\\n",
       "0           Ambato               7             42                 6.000000   \n",
       "1        Guayaquil              24            156                 6.500000   \n",
       "2          Machala               7             23                 3.285714   \n",
       "3            Manta               8             25                 3.125000   \n",
       "4            Quito              16            103                 6.437500   \n",
       "\n",
       "   promedio_ticket  count_visitas  \n",
       "0        39.897514      68.822394  \n",
       "1        63.507347      97.601810  \n",
       "2        61.770419     115.587786  \n",
       "3        40.047938     109.374101  \n",
       "4        47.557067     121.904483  "
      ]
     },
     "execution_count": 190,
     "metadata": {},
     "output_type": "execute_result"
    }
   ],
   "source": [
    "dfw2"
   ]
  },
  {
   "cell_type": "code",
   "execution_count": 191,
   "metadata": {},
   "outputs": [],
   "source": [
    "final = dfw2[['EtiquetaSucursal', 'CodigoVendedor', 'CodigoCliente',\n",
    "       'clienteNuevoPorVendedor', 'promedio_ticket',\n",
    "       'count_visitas']].copy()"
   ]
  },
  {
   "cell_type": "code",
   "execution_count": 192,
   "metadata": {},
   "outputs": [
    {
     "data": {
      "text/html": [
       "<div>\n",
       "<style scoped>\n",
       "    .dataframe tbody tr th:only-of-type {\n",
       "        vertical-align: middle;\n",
       "    }\n",
       "\n",
       "    .dataframe tbody tr th {\n",
       "        vertical-align: top;\n",
       "    }\n",
       "\n",
       "    .dataframe thead th {\n",
       "        text-align: right;\n",
       "    }\n",
       "</style>\n",
       "<table border=\"1\" class=\"dataframe\">\n",
       "  <thead>\n",
       "    <tr style=\"text-align: right;\">\n",
       "      <th></th>\n",
       "      <th>EtiquetaSucursal</th>\n",
       "      <th>CodigoVendedor</th>\n",
       "      <th>CodigoCliente</th>\n",
       "      <th>clienteNuevoPorVendedor</th>\n",
       "      <th>promedio_ticket</th>\n",
       "      <th>count_visitas</th>\n",
       "      <th>TotalAño</th>\n",
       "    </tr>\n",
       "  </thead>\n",
       "  <tbody>\n",
       "    <tr>\n",
       "      <th>0</th>\n",
       "      <td>Ambato</td>\n",
       "      <td>7</td>\n",
       "      <td>42</td>\n",
       "      <td>6.000000</td>\n",
       "      <td>39.897514</td>\n",
       "      <td>68.822394</td>\n",
       "      <td>2745.842394</td>\n",
       "    </tr>\n",
       "    <tr>\n",
       "      <th>1</th>\n",
       "      <td>Guayaquil</td>\n",
       "      <td>24</td>\n",
       "      <td>156</td>\n",
       "      <td>6.500000</td>\n",
       "      <td>63.507347</td>\n",
       "      <td>97.601810</td>\n",
       "      <td>6198.432036</td>\n",
       "    </tr>\n",
       "    <tr>\n",
       "      <th>2</th>\n",
       "      <td>Machala</td>\n",
       "      <td>7</td>\n",
       "      <td>23</td>\n",
       "      <td>3.285714</td>\n",
       "      <td>61.770419</td>\n",
       "      <td>115.587786</td>\n",
       "      <td>7139.906031</td>\n",
       "    </tr>\n",
       "    <tr>\n",
       "      <th>3</th>\n",
       "      <td>Manta</td>\n",
       "      <td>8</td>\n",
       "      <td>25</td>\n",
       "      <td>3.125000</td>\n",
       "      <td>40.047938</td>\n",
       "      <td>109.374101</td>\n",
       "      <td>4380.207194</td>\n",
       "    </tr>\n",
       "    <tr>\n",
       "      <th>4</th>\n",
       "      <td>Quito</td>\n",
       "      <td>16</td>\n",
       "      <td>103</td>\n",
       "      <td>6.437500</td>\n",
       "      <td>47.557067</td>\n",
       "      <td>121.904483</td>\n",
       "      <td>5797.419747</td>\n",
       "    </tr>\n",
       "  </tbody>\n",
       "</table>\n",
       "</div>"
      ],
      "text/plain": [
       "  EtiquetaSucursal  CodigoVendedor  CodigoCliente  clienteNuevoPorVendedor  \\\n",
       "0           Ambato               7             42                 6.000000   \n",
       "1        Guayaquil              24            156                 6.500000   \n",
       "2          Machala               7             23                 3.285714   \n",
       "3            Manta               8             25                 3.125000   \n",
       "4            Quito              16            103                 6.437500   \n",
       "\n",
       "   promedio_ticket  count_visitas     TotalAño  \n",
       "0        39.897514      68.822394  2745.842394  \n",
       "1        63.507347      97.601810  6198.432036  \n",
       "2        61.770419     115.587786  7139.906031  \n",
       "3        40.047938     109.374101  4380.207194  \n",
       "4        47.557067     121.904483  5797.419747  "
      ]
     },
     "execution_count": 192,
     "metadata": {},
     "output_type": "execute_result"
    }
   ],
   "source": [
    "final['TotalAño'] = final['promedio_ticket'] * final['count_visitas']\n",
    "final"
   ]
  },
  {
   "cell_type": "code",
   "execution_count": 194,
   "metadata": {},
   "outputs": [],
   "source": [
    "cantones_fil = cantones[['Sucursal', 'Clientes', 'Universo Construccion']]\n",
    "final['Sucursal'] = final['EtiquetaSucursal'].str.upper()\n",
    "cantones_fil = cantones_fil.merge(final, on='Sucursal')\n",
    "cantones_fil['clienteNuevoPorVendedor'] = np.round(cantones_fil['clienteNuevoPorVendedor'])\n",
    "cantones_fil['estimadoNuevo'] = 2\n",
    "cantones_fil['Nuevos2024'] = (cantones_fil['estimadoNuevo'] * cantones_fil['CodigoVendedor']) + cantones_fil['CodigoCliente']\n",
    "cantones_fil['2024'] = cantones_fil['Clientes'] + cantones_fil['Nuevos2024']\n",
    "cantones_fil['Nuevos2025'] = (cantones_fil['estimadoNuevo'] * cantones_fil['CodigoVendedor']) + cantones_fil['Nuevos2024']\n",
    "cantones_fil['2025'] = cantones_fil['2024'] + cantones_fil['Nuevos2025']\n",
    "cantones_fil['Nuevos2026'] = (cantones_fil['estimadoNuevo'] * cantones_fil['CodigoVendedor']) + cantones_fil['Nuevos2025']\n",
    "cantones_fil['2026'] = cantones_fil['2025'] + cantones_fil['Nuevos2026']\n",
    "cantones_fil['nuevoShare'] = cantones_fil['2026'] / cantones_fil['Universo Construccion']"
   ]
  },
  {
   "cell_type": "code",
   "execution_count": 195,
   "metadata": {},
   "outputs": [
    {
     "data": {
      "text/html": [
       "<div>\n",
       "<style scoped>\n",
       "    .dataframe tbody tr th:only-of-type {\n",
       "        vertical-align: middle;\n",
       "    }\n",
       "\n",
       "    .dataframe tbody tr th {\n",
       "        vertical-align: top;\n",
       "    }\n",
       "\n",
       "    .dataframe thead th {\n",
       "        text-align: right;\n",
       "    }\n",
       "</style>\n",
       "<table border=\"1\" class=\"dataframe\">\n",
       "  <thead>\n",
       "    <tr style=\"text-align: right;\">\n",
       "      <th></th>\n",
       "      <th>EtiquetaSucursal</th>\n",
       "      <th>netoNuevos</th>\n",
       "    </tr>\n",
       "  </thead>\n",
       "  <tbody>\n",
       "    <tr>\n",
       "      <th>0</th>\n",
       "      <td>Machala</td>\n",
       "      <td>153</td>\n",
       "    </tr>\n",
       "    <tr>\n",
       "      <th>1</th>\n",
       "      <td>Guayaquil</td>\n",
       "      <td>756</td>\n",
       "    </tr>\n",
       "    <tr>\n",
       "      <th>2</th>\n",
       "      <td>Manta</td>\n",
       "      <td>171</td>\n",
       "    </tr>\n",
       "    <tr>\n",
       "      <th>3</th>\n",
       "      <td>Quito</td>\n",
       "      <td>501</td>\n",
       "    </tr>\n",
       "    <tr>\n",
       "      <th>4</th>\n",
       "      <td>Ambato</td>\n",
       "      <td>210</td>\n",
       "    </tr>\n",
       "  </tbody>\n",
       "</table>\n",
       "</div>"
      ],
      "text/plain": [
       "  EtiquetaSucursal  netoNuevos\n",
       "0          Machala         153\n",
       "1        Guayaquil         756\n",
       "2            Manta         171\n",
       "3            Quito         501\n",
       "4           Ambato         210"
      ]
     },
     "execution_count": 195,
     "metadata": {},
     "output_type": "execute_result"
    }
   ],
   "source": [
    "cantones_fil['USDoportunidad2024'] = cantones_fil['Nuevos2024'] * cantones_fil['TotalAño']\n",
    "cantones_fil['USDoportunidad2025'] = cantones_fil['Nuevos2025'] * cantones_fil['TotalAño']\n",
    "cantones_fil['USDoportunidad2026'] = cantones_fil['Nuevos2026'] * cantones_fil['TotalAño']\n",
    "cantones_fil['acumulado2025'] = cantones_fil['USDoportunidad2024'] + cantones_fil['USDoportunidad2025']\n",
    "cantones_fil['acumulado2026'] = cantones_fil['acumulado2025'] + cantones_fil['USDoportunidad2026']\n",
    "cantones_fil['netoNuevos'] = cantones_fil['Nuevos2024'] +cantones_fil['Nuevos2025'] +cantones_fil['Nuevos2026']\n",
    "cantones_fil[['EtiquetaSucursal', 'netoNuevos']]"
   ]
  },
  {
   "cell_type": "code",
   "execution_count": 196,
   "metadata": {},
   "outputs": [],
   "source": [
    "proy = cantones_fil[['EtiquetaSucursal','2024','2025','2026']]\n",
    "proy_monetario = cantones_fil[['EtiquetaSucursal','USDoportunidad2024','acumulado2025','acumulado2026']]"
   ]
  },
  {
   "cell_type": "code",
   "execution_count": 122,
   "metadata": {},
   "outputs": [
    {
     "data": {
      "text/html": [
       "<div>\n",
       "<style scoped>\n",
       "    .dataframe tbody tr th:only-of-type {\n",
       "        vertical-align: middle;\n",
       "    }\n",
       "\n",
       "    .dataframe tbody tr th {\n",
       "        vertical-align: top;\n",
       "    }\n",
       "\n",
       "    .dataframe thead th {\n",
       "        text-align: right;\n",
       "    }\n",
       "</style>\n",
       "<table border=\"1\" class=\"dataframe\">\n",
       "  <thead>\n",
       "    <tr style=\"text-align: right;\">\n",
       "      <th></th>\n",
       "      <th>EtiquetaSucursal</th>\n",
       "      <th>2024</th>\n",
       "      <th>2025</th>\n",
       "      <th>2026</th>\n",
       "    </tr>\n",
       "  </thead>\n",
       "  <tbody>\n",
       "    <tr>\n",
       "      <th>0</th>\n",
       "      <td>Machala</td>\n",
       "      <td>102</td>\n",
       "      <td>153</td>\n",
       "      <td>218</td>\n",
       "    </tr>\n",
       "    <tr>\n",
       "      <th>1</th>\n",
       "      <td>Guayaquil</td>\n",
       "      <td>569</td>\n",
       "      <td>821</td>\n",
       "      <td>1121</td>\n",
       "    </tr>\n",
       "    <tr>\n",
       "      <th>2</th>\n",
       "      <td>Manta</td>\n",
       "      <td>108</td>\n",
       "      <td>165</td>\n",
       "      <td>238</td>\n",
       "    </tr>\n",
       "    <tr>\n",
       "      <th>3</th>\n",
       "      <td>Quito</td>\n",
       "      <td>399</td>\n",
       "      <td>566</td>\n",
       "      <td>765</td>\n",
       "    </tr>\n",
       "    <tr>\n",
       "      <th>4</th>\n",
       "      <td>Ambato</td>\n",
       "      <td>128</td>\n",
       "      <td>198</td>\n",
       "      <td>282</td>\n",
       "    </tr>\n",
       "  </tbody>\n",
       "</table>\n",
       "</div>"
      ],
      "text/plain": [
       "  EtiquetaSucursal  2024  2025  2026\n",
       "0          Machala   102   153   218\n",
       "1        Guayaquil   569   821  1121\n",
       "2            Manta   108   165   238\n",
       "3            Quito   399   566   765\n",
       "4           Ambato   128   198   282"
      ]
     },
     "execution_count": 122,
     "metadata": {},
     "output_type": "execute_result"
    }
   ],
   "source": [
    "proy"
   ]
  },
  {
   "cell_type": "code",
   "execution_count": 123,
   "metadata": {},
   "outputs": [
    {
     "data": {
      "text/html": [
       "<div>\n",
       "<style scoped>\n",
       "    .dataframe tbody tr th:only-of-type {\n",
       "        vertical-align: middle;\n",
       "    }\n",
       "\n",
       "    .dataframe tbody tr th {\n",
       "        vertical-align: top;\n",
       "    }\n",
       "\n",
       "    .dataframe thead th {\n",
       "        text-align: right;\n",
       "    }\n",
       "</style>\n",
       "<table border=\"1\" class=\"dataframe\">\n",
       "  <thead>\n",
       "    <tr style=\"text-align: right;\">\n",
       "      <th>EtiquetaSucursal</th>\n",
       "      <th>Machala</th>\n",
       "      <th>Guayaquil</th>\n",
       "      <th>Manta</th>\n",
       "      <th>Quito</th>\n",
       "      <th>Ambato</th>\n",
       "    </tr>\n",
       "  </thead>\n",
       "  <tbody>\n",
       "    <tr>\n",
       "      <th>2024</th>\n",
       "      <td>102</td>\n",
       "      <td>569</td>\n",
       "      <td>108</td>\n",
       "      <td>399</td>\n",
       "      <td>128</td>\n",
       "    </tr>\n",
       "    <tr>\n",
       "      <th>2025</th>\n",
       "      <td>153</td>\n",
       "      <td>821</td>\n",
       "      <td>165</td>\n",
       "      <td>566</td>\n",
       "      <td>198</td>\n",
       "    </tr>\n",
       "    <tr>\n",
       "      <th>2026</th>\n",
       "      <td>218</td>\n",
       "      <td>1121</td>\n",
       "      <td>238</td>\n",
       "      <td>765</td>\n",
       "      <td>282</td>\n",
       "    </tr>\n",
       "  </tbody>\n",
       "</table>\n",
       "</div>"
      ],
      "text/plain": [
       "EtiquetaSucursal  Machala  Guayaquil  Manta  Quito  Ambato\n",
       "2024                  102        569    108    399     128\n",
       "2025                  153        821    165    566     198\n",
       "2026                  218       1121    238    765     282"
      ]
     },
     "execution_count": 123,
     "metadata": {},
     "output_type": "execute_result"
    }
   ],
   "source": [
    "df_transposed = proy.set_index('EtiquetaSucursal').T\n",
    "df_transposed"
   ]
  },
  {
   "cell_type": "code",
   "execution_count": 124,
   "metadata": {},
   "outputs": [
    {
     "data": {
      "text/html": [
       "<div>\n",
       "<style scoped>\n",
       "    .dataframe tbody tr th:only-of-type {\n",
       "        vertical-align: middle;\n",
       "    }\n",
       "\n",
       "    .dataframe tbody tr th {\n",
       "        vertical-align: top;\n",
       "    }\n",
       "\n",
       "    .dataframe thead th {\n",
       "        text-align: right;\n",
       "    }\n",
       "</style>\n",
       "<table border=\"1\" class=\"dataframe\">\n",
       "  <thead>\n",
       "    <tr style=\"text-align: right;\">\n",
       "      <th>EtiquetaSucursal</th>\n",
       "      <th>Machala</th>\n",
       "      <th>Guayaquil</th>\n",
       "      <th>Manta</th>\n",
       "      <th>Quito</th>\n",
       "      <th>Ambato</th>\n",
       "    </tr>\n",
       "  </thead>\n",
       "  <tbody>\n",
       "    <tr>\n",
       "      <th>USDoportunidad2024</th>\n",
       "      <td>2.641765e+05</td>\n",
       "      <td>1.264480e+06</td>\n",
       "      <td>179588.494964</td>\n",
       "      <td>7.826517e+05</td>\n",
       "      <td>153767.174054</td>\n",
       "    </tr>\n",
       "    <tr>\n",
       "      <th>acumulado2025</th>\n",
       "      <td>6.283117e+05</td>\n",
       "      <td>2.826485e+06</td>\n",
       "      <td>429260.305036</td>\n",
       "      <td>1.750821e+06</td>\n",
       "      <td>345976.141622</td>\n",
       "    </tr>\n",
       "    <tr>\n",
       "      <th>acumulado2026</th>\n",
       "      <td>1.092406e+06</td>\n",
       "      <td>4.686015e+06</td>\n",
       "      <td>749015.430216</td>\n",
       "      <td>2.904507e+06</td>\n",
       "      <td>576626.902703</td>\n",
       "    </tr>\n",
       "  </tbody>\n",
       "</table>\n",
       "</div>"
      ],
      "text/plain": [
       "EtiquetaSucursal         Machala     Guayaquil          Manta         Quito  \\\n",
       "USDoportunidad2024  2.641765e+05  1.264480e+06  179588.494964  7.826517e+05   \n",
       "acumulado2025       6.283117e+05  2.826485e+06  429260.305036  1.750821e+06   \n",
       "acumulado2026       1.092406e+06  4.686015e+06  749015.430216  2.904507e+06   \n",
       "\n",
       "EtiquetaSucursal           Ambato  \n",
       "USDoportunidad2024  153767.174054  \n",
       "acumulado2025       345976.141622  \n",
       "acumulado2026       576626.902703  "
      ]
     },
     "execution_count": 124,
     "metadata": {},
     "output_type": "execute_result"
    }
   ],
   "source": [
    "df_transposed_mon = proy_monetario.set_index('EtiquetaSucursal').T\n",
    "df_transposed_mon"
   ]
  },
  {
   "cell_type": "code",
   "execution_count": 197,
   "metadata": {},
   "outputs": [],
   "source": [
    "df_transposed_mon['EtiquetaSucursal'] = ['2024', '2025', '2026']\n",
    "df_transposed_mon.set_index('EtiquetaSucursal').reset_index()\n",
    "df_transposed_mon.index = df_transposed_mon['EtiquetaSucursal']\n",
    "df_transposed_mon.drop(columns=['EtiquetaSucursal'], inplace=True)"
   ]
  },
  {
   "cell_type": "code",
   "execution_count": 198,
   "metadata": {},
   "outputs": [
    {
     "name": "stderr",
     "output_type": "stream",
     "text": [
      "/home/eeveloza/anaconda3/lib/python3.11/site-packages/seaborn/_oldcore.py:1119: FutureWarning: use_inf_as_na option is deprecated and will be removed in a future version. Convert inf values to NaN before operating instead.\n",
      "  with pd.option_context('mode.use_inf_as_na', True):\n",
      "/home/eeveloza/anaconda3/lib/python3.11/site-packages/seaborn/_oldcore.py:1119: FutureWarning: use_inf_as_na option is deprecated and will be removed in a future version. Convert inf values to NaN before operating instead.\n",
      "  with pd.option_context('mode.use_inf_as_na', True):\n"
     ]
    },
    {
     "data": {
      "text/plain": [
       "Text(0.5, 1.0, 'Proyeccion de Ventas por Millones USD de clientes nuevos hasta el 2026')"
      ]
     },
     "execution_count": 198,
     "metadata": {},
     "output_type": "execute_result"
    },
    {
     "data": {
      "image/png": "[encoded data removed]",
      "text/plain": [
       "<Figure size 800x400 with 1 Axes>"
      ]
     },
     "metadata": {},
     "output_type": "display_data"
    }
   ],
   "source": [
    "fig, ax = plt.subplots(figsize=(8, 4))\n",
    "g = sns.lineplot(data=df_transposed_mon)\n",
    "g.legend_.set_title('Sucursal')\n",
    "plt.xlabel('Año')\n",
    "plt.ylabel('Ganancias por Millon (USD)')\n",
    "plt.title('Proyeccion de Ventas por Millones USD de clientes nuevos hasta el 2026')"
   ]
  },
  {
   "cell_type": "code",
   "execution_count": 199,
   "metadata": {},
   "outputs": [
    {
     "data": {
      "text/html": [
       "<div>\n",
       "<style scoped>\n",
       "    .dataframe tbody tr th:only-of-type {\n",
       "        vertical-align: middle;\n",
       "    }\n",
       "\n",
       "    .dataframe tbody tr th {\n",
       "        vertical-align: top;\n",
       "    }\n",
       "\n",
       "    .dataframe thead th {\n",
       "        text-align: right;\n",
       "    }\n",
       "</style>\n",
       "<table border=\"1\" class=\"dataframe\">\n",
       "  <thead>\n",
       "    <tr style=\"text-align: right;\">\n",
       "      <th>EtiquetaSucursal</th>\n",
       "      <th>Machala</th>\n",
       "      <th>Guayaquil</th>\n",
       "      <th>Manta</th>\n",
       "      <th>Quito</th>\n",
       "      <th>Ambato</th>\n",
       "    </tr>\n",
       "  </thead>\n",
       "  <tbody>\n",
       "    <tr>\n",
       "      <th>2024</th>\n",
       "      <td>102</td>\n",
       "      <td>569</td>\n",
       "      <td>108</td>\n",
       "      <td>399</td>\n",
       "      <td>128</td>\n",
       "    </tr>\n",
       "    <tr>\n",
       "      <th>2025</th>\n",
       "      <td>153</td>\n",
       "      <td>821</td>\n",
       "      <td>165</td>\n",
       "      <td>566</td>\n",
       "      <td>198</td>\n",
       "    </tr>\n",
       "    <tr>\n",
       "      <th>2026</th>\n",
       "      <td>218</td>\n",
       "      <td>1121</td>\n",
       "      <td>238</td>\n",
       "      <td>765</td>\n",
       "      <td>282</td>\n",
       "    </tr>\n",
       "  </tbody>\n",
       "</table>\n",
       "</div>"
      ],
      "text/plain": [
       "EtiquetaSucursal  Machala  Guayaquil  Manta  Quito  Ambato\n",
       "2024                  102        569    108    399     128\n",
       "2025                  153        821    165    566     198\n",
       "2026                  218       1121    238    765     282"
      ]
     },
     "execution_count": 199,
     "metadata": {},
     "output_type": "execute_result"
    }
   ],
   "source": [
    "df_transposed"
   ]
  },
  {
   "cell_type": "code",
   "execution_count": 200,
   "metadata": {},
   "outputs": [
    {
     "name": "stderr",
     "output_type": "stream",
     "text": [
      "/home/eeveloza/anaconda3/lib/python3.11/site-packages/seaborn/_oldcore.py:1119: FutureWarning: use_inf_as_na option is deprecated and will be removed in a future version. Convert inf values to NaN before operating instead.\n",
      "  with pd.option_context('mode.use_inf_as_na', True):\n",
      "/home/eeveloza/anaconda3/lib/python3.11/site-packages/seaborn/_oldcore.py:1119: FutureWarning: use_inf_as_na option is deprecated and will be removed in a future version. Convert inf values to NaN before operating instead.\n",
      "  with pd.option_context('mode.use_inf_as_na', True):\n"
     ]
    },
    {
     "data": {
      "text/plain": [
       "<Axes: >"
      ]
     },
     "execution_count": 200,
     "metadata": {},
     "output_type": "execute_result"
    },
    {
     "data": {
      "image/png": "[encoded data removed]",
      "text/plain": [
       "<Figure size 640x480 with 1 Axes>"
      ]
     },
     "metadata": {},
     "output_type": "display_data"
    }
   ],
   "source": [
    "sns.lineplot(data=df_transposed)"
   ]
  },
  {
   "cell_type": "code",
   "execution_count": null,
   "metadata": {},
   "outputs": [],
   "source": []
  }
 ],
 "metadata": {
  "kernelspec": {
   "display_name": "Python 3 (ipykernel)",
   "language": "python",
   "name": "python3"
  },
  "language_info": {
   "codemirror_mode": {
    "name": "ipython",
    "version": 3
   },
   "file_extension": ".py",
   "mimetype": "text/x-python",
   "name": "python",
   "nbconvert_exporter": "python",
   "pygments_lexer": "ipython3",
   "version": "3.11.7"
  }
 },
 "nbformat": 4,
 "nbformat_minor": 2
}
